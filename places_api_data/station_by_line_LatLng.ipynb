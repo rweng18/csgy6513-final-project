{
 "cells": [
  {
   "cell_type": "code",
   "execution_count": 27,
   "id": "3ddc9a7b-8410-4206-abe5-b61d84fe35a9",
   "metadata": {},
   "outputs": [
    {
     "data": {
      "text/html": [
       "\n",
       "            <div>\n",
       "                <p><b>SparkSession - in-memory</b></p>\n",
       "                \n",
       "        <div>\n",
       "            <p><b>SparkContext</b></p>\n",
       "\n",
       "            <p><a href=\"http://a4aa24a22d5d:4040\">Spark UI</a></p>\n",
       "\n",
       "            <dl>\n",
       "              <dt>Version</dt>\n",
       "                <dd><code>v3.5.0</code></dd>\n",
       "              <dt>Master</dt>\n",
       "                <dd><code>local[*]</code></dd>\n",
       "              <dt>AppName</dt>\n",
       "                <dd><code>pyspark-shell</code></dd>\n",
       "            </dl>\n",
       "        </div>\n",
       "        \n",
       "            </div>\n",
       "        "
      ],
      "text/plain": [
       "<pyspark.sql.session.SparkSession at 0x7f760b973910>"
      ]
     },
     "execution_count": 27,
     "metadata": {},
     "output_type": "execute_result"
    }
   ],
   "source": [
    "import pyspark\n",
    "\n",
    "session = pyspark.sql.SparkSession\n",
    "spark = session.builder.config('spark.driver.memory','8g').getOrCreate()\n",
    "spark"
   ]
  },
  {
   "cell_type": "code",
   "execution_count": 28,
   "id": "af3848fd-7199-4619-bb3f-dab6261932e5",
   "metadata": {},
   "outputs": [
    {
     "name": "stdout",
     "output_type": "stream",
     "text": [
      "+------------+--------+--------------------+-------+-----+-----+-------------+--------------+\n",
      "|GTFS Stop ID|Division|           Stop Name|Borough|  CBD|Route|GTFS Latitude|GTFS Longitude|\n",
      "+------------+--------+--------------------+-------+-----+-----+-------------+--------------+\n",
      "|         R01|     BMT|Astoria-Ditmars Blvd|      Q|false|    N|    40.775036|    -73.912034|\n",
      "|         R01|     BMT|Astoria-Ditmars Blvd|      Q|false|    W|    40.775036|    -73.912034|\n",
      "|         R03|     BMT|        Astoria Blvd|      Q|false|    N|    40.770258|    -73.917843|\n",
      "|         R03|     BMT|        Astoria Blvd|      Q|false|    W|    40.770258|    -73.917843|\n",
      "|         R04|     BMT|               30 Av|      Q|false|    N|    40.766779|    -73.921479|\n",
      "|         R04|     BMT|               30 Av|      Q|false|    W|    40.766779|    -73.921479|\n",
      "|         R05|     BMT|            Broadway|      Q|false|    N|     40.76182|    -73.925508|\n",
      "|         R05|     BMT|            Broadway|      Q|false|    W|     40.76182|    -73.925508|\n",
      "|         R06|     BMT|               36 Av|      Q|false|    N|    40.756804|    -73.929575|\n",
      "|         R06|     BMT|               36 Av|      Q|false|    W|    40.756804|    -73.929575|\n",
      "|         R08|     BMT|   39 Av-Dutch Kills|      Q|false|    N|    40.752882|    -73.932755|\n",
      "|         R08|     BMT|   39 Av-Dutch Kills|      Q|false|    W|    40.752882|    -73.932755|\n",
      "|         R11|     BMT|  Lexington Av/59 St|      M| true|    N|     40.76266|    -73.967258|\n",
      "|         R11|     BMT|  Lexington Av/59 St|      M| true|    R|     40.76266|    -73.967258|\n",
      "|         R11|     BMT|  Lexington Av/59 St|      M| true|    W|     40.76266|    -73.967258|\n",
      "|         R13|     BMT|          5 Av/59 St|      M| true|    N|    40.764811|    -73.973347|\n",
      "|         R13|     BMT|          5 Av/59 St|      M| true|    R|    40.764811|    -73.973347|\n",
      "|         R13|     BMT|          5 Av/59 St|      M| true|    W|    40.764811|    -73.973347|\n",
      "|         R14|     BMT|          57 St-7 Av|      M| true|    N|    40.764664|    -73.980658|\n",
      "|         R14|     BMT|          57 St-7 Av|      M| true|    Q|    40.764664|    -73.980658|\n",
      "+------------+--------+--------------------+-------+-----+-----+-------------+--------------+\n",
      "only showing top 20 rows\n",
      "\n"
     ]
    }
   ],
   "source": [
    "##setting up the bakery data from read\n",
    "stationData = spark.read \\\n",
    "    .option(\"header\", True) \\\n",
    "    .option(\"inferSchema\", True) \\\n",
    "    .csv(\"station_by_line.csv\")\n",
    "stationData\n",
    "stationData.show()"
   ]
  },
  {
   "cell_type": "code",
   "execution_count": 30,
   "id": "cfc43748-8d90-4bd2-ab0c-ad3d707fc630",
   "metadata": {},
   "outputs": [
    {
     "name": "stdout",
     "output_type": "stream",
     "text": [
      "+--------------------+-------------+--------------+\n",
      "|           Stop Name|GTFS Latitude|GTFS Longitude|\n",
      "+--------------------+-------------+--------------+\n",
      "|         Tottenville|    40.512764|    -74.251961|\n",
      "|         Arthur Kill|    40.516578|    -74.242096|\n",
      "|     Richmond Valley|    40.519631|    -74.229141|\n",
      "|     Pleasant Plains|     40.52241|    -74.217847|\n",
      "|        Prince's Bay|    40.525507|    -74.200064|\n",
      "|            Huguenot|    40.533674|    -74.191794|\n",
      "|            Annadale|     40.54046|    -74.178217|\n",
      "|         Eltingville|    40.544601|     -74.16457|\n",
      "|         Great Kills|    40.551231|    -74.151399|\n",
      "|         Bay Terrace|      40.5564|    -74.136907|\n",
      "|     Oakwood Heights|     40.56511|     -74.12632|\n",
      "|            New Dorp|     40.57348|     -74.11721|\n",
      "|  W 8 St-NY Aquarium|    40.576127|    -73.975939|\n",
      "|          Ocean Pkwy|    40.576312|    -73.968501|\n",
      "|Coney Island-Stil...|    40.577422|    -73.981233|\n",
      "|      Brighton Beach|    40.577621|    -73.961376|\n",
      "|          Grant City|    40.578965|    -74.109704|\n",
      "|Rockaway Park-Bea...|    40.580903|    -73.835592|\n",
      "|          Neptune Av|    40.581011|    -73.974574|\n",
      "|        Beach 105 St|    40.583209|    -73.827559|\n",
      "+--------------------+-------------+--------------+\n",
      "only showing top 20 rows\n",
      "\n"
     ]
    }
   ],
   "source": [
    "#drop duplicate values\n",
    "\n",
    "stationData = stationData.dropDuplicates([\"GTFS Latitude\", \"GTFS Longitude\"])\n",
    "stationData = stationData.select(\"Stop Name\", \"GTFS Latitude\", \"GTFS Longitude\")\n",
    "stationData.show()"
   ]
  },
  {
   "cell_type": "code",
   "execution_count": 31,
   "id": "cc0672f3-e2f9-47b8-bbff-5f3011559e26",
   "metadata": {},
   "outputs": [],
   "source": [
    "stationData.write.option(\"header\", True).mode(\"overwrite\").csv(\"station_by_line_noRoutes\")"
   ]
  },
  {
   "cell_type": "code",
   "execution_count": null,
   "id": "49f48775-c9ca-4878-83f7-8bb541e47656",
   "metadata": {},
   "outputs": [],
   "source": []
  }
 ],
 "metadata": {
  "kernelspec": {
   "display_name": "Python 3 (ipykernel)",
   "language": "python",
   "name": "python3"
  },
  "language_info": {
   "codemirror_mode": {
    "name": "ipython",
    "version": 3
   },
   "file_extension": ".py",
   "mimetype": "text/x-python",
   "name": "python",
   "nbconvert_exporter": "python",
   "pygments_lexer": "ipython3",
   "version": "3.11.6"
  }
 },
 "nbformat": 4,
 "nbformat_minor": 5
}
