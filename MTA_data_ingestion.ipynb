{
 "cells": [
  {
   "cell_type": "markdown",
   "id": "7ef02a10-f7b4-484a-be12-d8556e61aadd",
   "metadata": {},
   "source": [
    "# Using Apache Spark to create Station by Route dataset\n",
    "**Rationale:** There is potential for enormous amounts of data, it's important to build a stack that can handle distributed compute even if the dataset currently being used does not *require* such use"
   ]
  },
  {
   "cell_type": "code",
   "execution_count": 1,
   "id": "06669e1b-e170-4e40-96f5-fa754dc6c4db",
   "metadata": {},
   "outputs": [
    {
     "data": {
      "text/html": [
       "\n",
       "            <div>\n",
       "                <p><b>SparkSession - in-memory</b></p>\n",
       "                \n",
       "        <div>\n",
       "            <p><b>SparkContext</b></p>\n",
       "\n",
       "            <p><a href=\"http://e2257a301dd5:4041\">Spark UI</a></p>\n",
       "\n",
       "            <dl>\n",
       "              <dt>Version</dt>\n",
       "                <dd><code>v3.5.0</code></dd>\n",
       "              <dt>Master</dt>\n",
       "                <dd><code>local[*]</code></dd>\n",
       "              <dt>AppName</dt>\n",
       "                <dd><code>pyspark-shell</code></dd>\n",
       "            </dl>\n",
       "        </div>\n",
       "        \n",
       "            </div>\n",
       "        "
      ],
      "text/plain": [
       "<pyspark.sql.session.SparkSession at 0xffff83a53890>"
      ]
     },
     "execution_count": 1,
     "metadata": {},
     "output_type": "execute_result"
    }
   ],
   "source": [
    "# start a Spark session\n",
    "import pyspark\n",
    "\n",
    "session = pyspark.sql.SparkSession\n",
    "# use all available memory for the driver\n",
    "spark = session.builder.config('spark.driver.memory','10g').getOrCreate()\n",
    "spark"
   ]
  },
  {
   "cell_type": "markdown",
   "id": "7d6f7f62-a450-4d82-90dd-8a886e17ff66",
   "metadata": {},
   "source": [
    "## Get basic info on datasets"
   ]
  },
  {
   "cell_type": "code",
   "execution_count": 3,
   "id": "cdf6a34c-b98b-4672-b569-9d7e4fcc63b9",
   "metadata": {
    "editable": true,
    "slideshow": {
     "slide_type": ""
    },
    "tags": []
   },
   "outputs": [],
   "source": [
    "# Set dataset paths\n",
    "stations_path = \"MTA_data/MTA_Subway_Stations_20250717.csv\"\n",
    "\n",
    "# Function to read in CSV files\n",
    "def read_data(path):\n",
    "    df = spark.read\\\n",
    "              .option(\"header\", True)\\\n",
    "              .csv(path)\n",
    "    df.printSchema()\n",
    "    return df"
   ]
  },
  {
   "cell_type": "code",
   "execution_count": 4,
   "id": "4a5c3ec4-40a0-42d1-9aa5-fd73c16d0424",
   "metadata": {},
   "outputs": [
    {
     "name": "stdout",
     "output_type": "stream",
     "text": [
      "root\n",
      " |-- GTFS Stop ID: string (nullable = true)\n",
      " |-- Station ID: string (nullable = true)\n",
      " |-- Complex ID: string (nullable = true)\n",
      " |-- Division: string (nullable = true)\n",
      " |-- Line: string (nullable = true)\n",
      " |-- Stop Name: string (nullable = true)\n",
      " |-- Borough: string (nullable = true)\n",
      " |-- CBD: string (nullable = true)\n",
      " |-- Daytime Routes: string (nullable = true)\n",
      " |-- Structure: string (nullable = true)\n",
      " |-- GTFS Latitude: string (nullable = true)\n",
      " |-- GTFS Longitude: string (nullable = true)\n",
      " |-- North Direction Label: string (nullable = true)\n",
      " |-- South Direction Label: string (nullable = true)\n",
      " |-- ADA: string (nullable = true)\n",
      " |-- ADA Northbound: string (nullable = true)\n",
      " |-- ADA Southbound: string (nullable = true)\n",
      " |-- ADA Notes: string (nullable = true)\n",
      " |-- Georeference: string (nullable = true)\n",
      "\n"
     ]
    }
   ],
   "source": [
    "stations = read_data(stations_path)"
   ]
  },
  {
   "cell_type": "code",
   "execution_count": 4,
   "id": "e66d56eb-4bbf-4590-89ba-41ad99ead611",
   "metadata": {},
   "outputs": [
    {
     "data": {
      "text/html": [
       "<div>\n",
       "<style scoped>\n",
       "    .dataframe tbody tr th:only-of-type {\n",
       "        vertical-align: middle;\n",
       "    }\n",
       "\n",
       "    .dataframe tbody tr th {\n",
       "        vertical-align: top;\n",
       "    }\n",
       "\n",
       "    .dataframe thead th {\n",
       "        text-align: right;\n",
       "    }\n",
       "</style>\n",
       "<table border=\"1\" class=\"dataframe\">\n",
       "  <thead>\n",
       "    <tr style=\"text-align: right;\">\n",
       "      <th></th>\n",
       "      <th>GTFS Stop ID</th>\n",
       "      <th>Station ID</th>\n",
       "      <th>Complex ID</th>\n",
       "      <th>Division</th>\n",
       "      <th>Line</th>\n",
       "      <th>Stop Name</th>\n",
       "      <th>Borough</th>\n",
       "      <th>CBD</th>\n",
       "      <th>Daytime Routes</th>\n",
       "      <th>Structure</th>\n",
       "      <th>GTFS Latitude</th>\n",
       "      <th>GTFS Longitude</th>\n",
       "      <th>North Direction Label</th>\n",
       "      <th>South Direction Label</th>\n",
       "      <th>ADA</th>\n",
       "      <th>ADA Northbound</th>\n",
       "      <th>ADA Southbound</th>\n",
       "      <th>ADA Notes</th>\n",
       "      <th>Georeference</th>\n",
       "    </tr>\n",
       "  </thead>\n",
       "  <tbody>\n",
       "    <tr>\n",
       "      <th>0</th>\n",
       "      <td>R01</td>\n",
       "      <td>1</td>\n",
       "      <td>1</td>\n",
       "      <td>BMT</td>\n",
       "      <td>Astoria</td>\n",
       "      <td>Astoria-Ditmars Blvd</td>\n",
       "      <td>Q</td>\n",
       "      <td>False</td>\n",
       "      <td>N W</td>\n",
       "      <td>Elevated</td>\n",
       "      <td>40.775036</td>\n",
       "      <td>-73.912034</td>\n",
       "      <td>Last Stop</td>\n",
       "      <td>Manhattan</td>\n",
       "      <td>0</td>\n",
       "      <td>0</td>\n",
       "      <td>0</td>\n",
       "      <td>None</td>\n",
       "      <td>POINT (-73.912034 40.775036)</td>\n",
       "    </tr>\n",
       "    <tr>\n",
       "      <th>1</th>\n",
       "      <td>R03</td>\n",
       "      <td>2</td>\n",
       "      <td>2</td>\n",
       "      <td>BMT</td>\n",
       "      <td>Astoria</td>\n",
       "      <td>Astoria Blvd</td>\n",
       "      <td>Q</td>\n",
       "      <td>False</td>\n",
       "      <td>N W</td>\n",
       "      <td>Elevated</td>\n",
       "      <td>40.770258</td>\n",
       "      <td>-73.917843</td>\n",
       "      <td>Astoria</td>\n",
       "      <td>Manhattan</td>\n",
       "      <td>1</td>\n",
       "      <td>1</td>\n",
       "      <td>1</td>\n",
       "      <td>None</td>\n",
       "      <td>POINT (-73.917843 40.770258)</td>\n",
       "    </tr>\n",
       "    <tr>\n",
       "      <th>2</th>\n",
       "      <td>R04</td>\n",
       "      <td>3</td>\n",
       "      <td>3</td>\n",
       "      <td>BMT</td>\n",
       "      <td>Astoria</td>\n",
       "      <td>30 Av</td>\n",
       "      <td>Q</td>\n",
       "      <td>False</td>\n",
       "      <td>N W</td>\n",
       "      <td>Elevated</td>\n",
       "      <td>40.766779</td>\n",
       "      <td>-73.921479</td>\n",
       "      <td>Astoria</td>\n",
       "      <td>Manhattan</td>\n",
       "      <td>0</td>\n",
       "      <td>0</td>\n",
       "      <td>0</td>\n",
       "      <td>None</td>\n",
       "      <td>POINT (-73.921479 40.766779)</td>\n",
       "    </tr>\n",
       "    <tr>\n",
       "      <th>3</th>\n",
       "      <td>R05</td>\n",
       "      <td>4</td>\n",
       "      <td>4</td>\n",
       "      <td>BMT</td>\n",
       "      <td>Astoria</td>\n",
       "      <td>Broadway</td>\n",
       "      <td>Q</td>\n",
       "      <td>False</td>\n",
       "      <td>N W</td>\n",
       "      <td>Elevated</td>\n",
       "      <td>40.76182</td>\n",
       "      <td>-73.925508</td>\n",
       "      <td>Astoria</td>\n",
       "      <td>Manhattan</td>\n",
       "      <td>0</td>\n",
       "      <td>0</td>\n",
       "      <td>0</td>\n",
       "      <td>None</td>\n",
       "      <td>POINT (-73.925508 40.76182)</td>\n",
       "    </tr>\n",
       "    <tr>\n",
       "      <th>4</th>\n",
       "      <td>R06</td>\n",
       "      <td>5</td>\n",
       "      <td>5</td>\n",
       "      <td>BMT</td>\n",
       "      <td>Astoria</td>\n",
       "      <td>36 Av</td>\n",
       "      <td>Q</td>\n",
       "      <td>False</td>\n",
       "      <td>N W</td>\n",
       "      <td>Elevated</td>\n",
       "      <td>40.756804</td>\n",
       "      <td>-73.929575</td>\n",
       "      <td>Astoria</td>\n",
       "      <td>Manhattan</td>\n",
       "      <td>0</td>\n",
       "      <td>0</td>\n",
       "      <td>0</td>\n",
       "      <td>None</td>\n",
       "      <td>POINT (-73.929575 40.756804)</td>\n",
       "    </tr>\n",
       "  </tbody>\n",
       "</table>\n",
       "</div>"
      ],
      "text/plain": [
       "  GTFS Stop ID Station ID Complex ID Division     Line             Stop Name  \\\n",
       "0          R01          1          1      BMT  Astoria  Astoria-Ditmars Blvd   \n",
       "1          R03          2          2      BMT  Astoria          Astoria Blvd   \n",
       "2          R04          3          3      BMT  Astoria                 30 Av   \n",
       "3          R05          4          4      BMT  Astoria              Broadway   \n",
       "4          R06          5          5      BMT  Astoria                 36 Av   \n",
       "\n",
       "  Borough    CBD Daytime Routes Structure GTFS Latitude GTFS Longitude  \\\n",
       "0       Q  False            N W  Elevated     40.775036     -73.912034   \n",
       "1       Q  False            N W  Elevated     40.770258     -73.917843   \n",
       "2       Q  False            N W  Elevated     40.766779     -73.921479   \n",
       "3       Q  False            N W  Elevated      40.76182     -73.925508   \n",
       "4       Q  False            N W  Elevated     40.756804     -73.929575   \n",
       "\n",
       "  North Direction Label South Direction Label ADA ADA Northbound  \\\n",
       "0             Last Stop             Manhattan   0              0   \n",
       "1               Astoria             Manhattan   1              1   \n",
       "2               Astoria             Manhattan   0              0   \n",
       "3               Astoria             Manhattan   0              0   \n",
       "4               Astoria             Manhattan   0              0   \n",
       "\n",
       "  ADA Southbound ADA Notes                  Georeference  \n",
       "0              0      None  POINT (-73.912034 40.775036)  \n",
       "1              1      None  POINT (-73.917843 40.770258)  \n",
       "2              0      None  POINT (-73.921479 40.766779)  \n",
       "3              0      None   POINT (-73.925508 40.76182)  \n",
       "4              0      None  POINT (-73.929575 40.756804)  "
      ]
     },
     "execution_count": 4,
     "metadata": {},
     "output_type": "execute_result"
    }
   ],
   "source": [
    "stations.limit(5).toPandas()"
   ]
  },
  {
   "cell_type": "code",
   "execution_count": 5,
   "id": "02130006-5fc7-4a04-b4d7-6998c9ea0469",
   "metadata": {},
   "outputs": [
    {
     "data": {
      "text/plain": [
       "496"
      ]
     },
     "execution_count": 5,
     "metadata": {},
     "output_type": "execute_result"
    }
   ],
   "source": [
    "stations.select(\"Station ID\").count()"
   ]
  },
  {
   "cell_type": "code",
   "execution_count": 6,
   "id": "3aaaa8b3-73a3-479e-9b9a-c4f11282f029",
   "metadata": {},
   "outputs": [
    {
     "data": {
      "text/plain": [
       "493"
      ]
     },
     "execution_count": 6,
     "metadata": {},
     "output_type": "execute_result"
    }
   ],
   "source": [
    "stations.select(\"Station ID\").distinct().count()"
   ]
  },
  {
   "cell_type": "code",
   "execution_count": 7,
   "id": "7580ed15-a4b6-408c-9114-7ad9f16445b1",
   "metadata": {},
   "outputs": [
    {
     "data": {
      "text/plain": [
       "496"
      ]
     },
     "execution_count": 7,
     "metadata": {},
     "output_type": "execute_result"
    }
   ],
   "source": [
    "stations.select(\"GTFS Stop ID\").distinct().count() ## Most unique value here -- should try to match on this"
   ]
  },
  {
   "cell_type": "code",
   "execution_count": 8,
   "id": "b723dac4-9016-4152-897b-dab4f320cc43",
   "metadata": {},
   "outputs": [
    {
     "data": {
      "text/plain": [
       "378"
      ]
     },
     "execution_count": 8,
     "metadata": {},
     "output_type": "execute_result"
    }
   ],
   "source": [
    "stations.select(\"Stop Name\").distinct().count() ## There are duplicate stop names -- need to understand why"
   ]
  },
  {
   "cell_type": "markdown",
   "id": "86985d3e-b2a5-463b-8295-ddb83483a303",
   "metadata": {},
   "source": [
    "## From the [codebook](https://data.ny.gov/Transportation/MTA-Subway-Stations/39hk-dx4f/about_data)\n",
    "\n",
    "- **Division:** \tThe division of the subway system (IRT, BMT, or IND) that the station is a part of.\n",
    "- **CBD:** \t    This indicates whether or not a station is in Manhattan’s Central Business District (CBD). This value is either TRUE or FALSE.\n",
    "- **Daytime Routes:** The subway routes that serve the station during weekdays."
   ]
  },
  {
   "cell_type": "code",
   "execution_count": 9,
   "id": "8a6cb28e-f810-4335-9671-82dda291f617",
   "metadata": {},
   "outputs": [],
   "source": [
    "basic_df = stations.select(\"GTFS Stop ID\", \"Division\", \"Stop Name\", \"Borough\", \"CBD\", \"Daytime Routes\", \"GTFS Latitude\", \"GTFS Longitude\")"
   ]
  },
  {
   "cell_type": "code",
   "execution_count": 10,
   "id": "4fe8f039-71f7-494e-924e-4697c315ccc8",
   "metadata": {},
   "outputs": [
    {
     "data": {
      "text/html": [
       "<div>\n",
       "<style scoped>\n",
       "    .dataframe tbody tr th:only-of-type {\n",
       "        vertical-align: middle;\n",
       "    }\n",
       "\n",
       "    .dataframe tbody tr th {\n",
       "        vertical-align: top;\n",
       "    }\n",
       "\n",
       "    .dataframe thead th {\n",
       "        text-align: right;\n",
       "    }\n",
       "</style>\n",
       "<table border=\"1\" class=\"dataframe\">\n",
       "  <thead>\n",
       "    <tr style=\"text-align: right;\">\n",
       "      <th></th>\n",
       "      <th>GTFS Stop ID</th>\n",
       "      <th>Division</th>\n",
       "      <th>Stop Name</th>\n",
       "      <th>Borough</th>\n",
       "      <th>CBD</th>\n",
       "      <th>Daytime Routes</th>\n",
       "      <th>GTFS Latitude</th>\n",
       "      <th>GTFS Longitude</th>\n",
       "    </tr>\n",
       "  </thead>\n",
       "  <tbody>\n",
       "    <tr>\n",
       "      <th>0</th>\n",
       "      <td>R01</td>\n",
       "      <td>BMT</td>\n",
       "      <td>Astoria-Ditmars Blvd</td>\n",
       "      <td>Q</td>\n",
       "      <td>False</td>\n",
       "      <td>N W</td>\n",
       "      <td>40.775036</td>\n",
       "      <td>-73.912034</td>\n",
       "    </tr>\n",
       "    <tr>\n",
       "      <th>1</th>\n",
       "      <td>R03</td>\n",
       "      <td>BMT</td>\n",
       "      <td>Astoria Blvd</td>\n",
       "      <td>Q</td>\n",
       "      <td>False</td>\n",
       "      <td>N W</td>\n",
       "      <td>40.770258</td>\n",
       "      <td>-73.917843</td>\n",
       "    </tr>\n",
       "    <tr>\n",
       "      <th>2</th>\n",
       "      <td>R04</td>\n",
       "      <td>BMT</td>\n",
       "      <td>30 Av</td>\n",
       "      <td>Q</td>\n",
       "      <td>False</td>\n",
       "      <td>N W</td>\n",
       "      <td>40.766779</td>\n",
       "      <td>-73.921479</td>\n",
       "    </tr>\n",
       "  </tbody>\n",
       "</table>\n",
       "</div>"
      ],
      "text/plain": [
       "  GTFS Stop ID Division             Stop Name Borough    CBD Daytime Routes  \\\n",
       "0          R01      BMT  Astoria-Ditmars Blvd       Q  False            N W   \n",
       "1          R03      BMT          Astoria Blvd       Q  False            N W   \n",
       "2          R04      BMT                 30 Av       Q  False            N W   \n",
       "\n",
       "  GTFS Latitude GTFS Longitude  \n",
       "0     40.775036     -73.912034  \n",
       "1     40.770258     -73.917843  \n",
       "2     40.766779     -73.921479  "
      ]
     },
     "execution_count": 10,
     "metadata": {},
     "output_type": "execute_result"
    }
   ],
   "source": [
    "basic_df.limit(3).toPandas()"
   ]
  },
  {
   "cell_type": "code",
   "execution_count": 11,
   "id": "8e195f7c-ed72-4163-86a2-fc8b6c11b374",
   "metadata": {},
   "outputs": [
    {
     "name": "stdout",
     "output_type": "stream",
     "text": [
      "+------+\n",
      "|Routes|\n",
      "+------+\n",
      "|[N, W]|\n",
      "|[N, W]|\n",
      "|[N, W]|\n",
      "|[N, W]|\n",
      "|[N, W]|\n",
      "+------+\n",
      "only showing top 5 rows\n",
      "\n"
     ]
    }
   ],
   "source": [
    "# Want one row for each route at each subway stop, will use split to create a list of routes at each stop\n",
    "# Code modified from HW2 solutions\n",
    "# Tokenize\n",
    "from pyspark.sql.functions import split, trim, col\n",
    "\n",
    " # split on one or more spaces\n",
    "basic_df = basic_df.withColumn(\"Routes\", split(trim(\"Daytime Routes\"), \" +\"))\n",
    "basic_df.select(\"Routes\").show(5)"
   ]
  },
  {
   "cell_type": "code",
   "execution_count": 12,
   "id": "74fea795-f02e-49f3-91d5-36d1b01521a4",
   "metadata": {},
   "outputs": [
    {
     "name": "stdout",
     "output_type": "stream",
     "text": [
      "+------------+--------+--------------------+-------+-----+-----+-------------+--------------+\n",
      "|GTFS Stop ID|Division|           Stop Name|Borough|  CBD|Route|GTFS Latitude|GTFS Longitude|\n",
      "+------------+--------+--------------------+-------+-----+-----+-------------+--------------+\n",
      "|         R01|     BMT|Astoria-Ditmars Blvd|      Q|False|    N|    40.775036|    -73.912034|\n",
      "|         R01|     BMT|Astoria-Ditmars Blvd|      Q|False|    W|    40.775036|    -73.912034|\n",
      "|         R03|     BMT|        Astoria Blvd|      Q|False|    N|    40.770258|    -73.917843|\n",
      "|         R03|     BMT|        Astoria Blvd|      Q|False|    W|    40.770258|    -73.917843|\n",
      "|         R04|     BMT|               30 Av|      Q|False|    N|    40.766779|    -73.921479|\n",
      "+------------+--------+--------------------+-------+-----+-----+-------------+--------------+\n",
      "only showing top 5 rows\n",
      "\n"
     ]
    }
   ],
   "source": [
    "from pyspark.sql.functions import explode\n",
    "columns = [\"GTFS Stop ID\", \"Division\", \"Stop Name\", \"Borough\", \"CBD\", \"Route\",\"GTFS Latitude\",\"GTFS Longitude\"]\n",
    "basic_df = basic_df.withColumn(\"Route\", explode(\"Routes\")).select(columns)\n",
    "basic_df.show(5)"
   ]
  },
  {
   "cell_type": "markdown",
   "id": "ee10b722-02a8-499a-8003-3f89f784efa9",
   "metadata": {},
   "source": [
    "## Check that route explode worked correctly\n",
    "- Filter for one line, and check the stops listed"
   ]
  },
  {
   "cell_type": "code",
   "execution_count": 13,
   "id": "442d4d39-9eb9-4298-9209-4bb0ee2e6a91",
   "metadata": {},
   "outputs": [
    {
     "name": "stdout",
     "output_type": "stream",
     "text": [
      "+------------+--------+--------------------+-------+-----+-----+-------------+--------------+\n",
      "|GTFS Stop ID|Division|           Stop Name|Borough|  CBD|Route|GTFS Latitude|GTFS Longitude|\n",
      "+------------+--------+--------------------+-------+-----+-----+-------------+--------------+\n",
      "|         701|     IRT|    Flushing-Main St|      Q|False|    7|      40.7596|     -73.83003|\n",
      "|         702|     IRT|  Mets-Willets Point|      Q|False|    7|    40.754622|    -73.845625|\n",
      "|         705|     IRT|              111 St|      Q|False|    7|     40.75173|    -73.855334|\n",
      "|         706|     IRT| 103 St-Corona Plaza|      Q|False|    7|    40.749865|      -73.8627|\n",
      "|         707|     IRT|       Junction Blvd|      Q|False|    7|    40.749145|    -73.869527|\n",
      "|         708|     IRT|   90 St-Elmhurst Av|      Q|False|    7|    40.748408|    -73.876613|\n",
      "|         709|     IRT|   82 St-Jackson Hts|      Q|False|    7|    40.747659|    -73.883697|\n",
      "|         710|     IRT|      74 St-Broadway|      Q|False|    7|    40.746848|    -73.891394|\n",
      "|         711|     IRT|               69 St|      Q|False|    7|    40.746325|    -73.896403|\n",
      "|         712|     IRT|      61 St-Woodside|      Q|False|    7|     40.74563|    -73.902984|\n",
      "|         713|     IRT|               52 St|      Q|False|    7|    40.744149|    -73.912549|\n",
      "|         714|     IRT|      46 St-Bliss St|      Q|False|    7|    40.743132|    -73.918435|\n",
      "|         715|     IRT|     40 St-Lowery St|      Q|False|    7|    40.743781|    -73.924016|\n",
      "|         716|     IRT|     33 St-Rawson St|      Q|False|    7|    40.744587|    -73.930997|\n",
      "|         718|     IRT|    Queensboro Plaza|      Q|False|    7|    40.750582|    -73.940202|\n",
      "|         719|     IRT|            Court Sq|      Q|False|    7|    40.747023|    -73.945264|\n",
      "|         720|     IRT|    Hunters Point Av|      Q|False|    7|    40.742216|    -73.948916|\n",
      "|         721|     IRT|Vernon Blvd-Jacks...|      Q|False|    7|    40.742626|    -73.953581|\n",
      "|         723|     IRT| Grand Central-42 St|      M| True|    7|    40.751431|    -73.976041|\n",
      "|         724|     IRT|                5 Av|      M| True|    7|    40.753821|    -73.981963|\n",
      "|         725|     IRT|      Times Sq-42 St|      M| True|    7|    40.755477|    -73.987691|\n",
      "|         726|     IRT|  34 St-Hudson Yards|      M| True|    7|    40.755882|     -74.00191|\n",
      "+------------+--------+--------------------+-------+-----+-----+-------------+--------------+\n",
      "\n"
     ]
    }
   ],
   "source": [
    "basic_df.where(col(\"Route\") == \"7\").show(25)"
   ]
  },
  {
   "cell_type": "code",
   "execution_count": 14,
   "id": "0f4d5bc5-7db5-41fe-bb35-b7c505a5386c",
   "metadata": {},
   "outputs": [
    {
     "name": "stdout",
     "output_type": "stream",
     "text": [
      "+------------+--------+--------------+-------+----+-----+-------------+--------------+\n",
      "|GTFS Stop ID|Division|     Stop Name|Borough| CBD|Route|GTFS Latitude|GTFS Longitude|\n",
      "+------------+--------+--------------+-------+----+-----+-------------+--------------+\n",
      "|         725|     IRT|Times Sq-42 St|      M|True|    7|    40.755477|    -73.987691|\n",
      "+------------+--------+--------------+-------+----+-----+-------------+--------------+\n",
      "\n"
     ]
    }
   ],
   "source": [
    "basic_df.where(col(\"GTFS Stop ID\") == \"725\").show(10) ## This is the Times Square station, should have many routes"
   ]
  },
  {
   "cell_type": "code",
   "execution_count": 15,
   "id": "abc13fac-a1be-423b-9c5c-c40cbbc1e903",
   "metadata": {},
   "outputs": [
    {
     "name": "stdout",
     "output_type": "stream",
     "text": [
      "+------------+--------+--------------+-------+----+-----+-------------+--------------+\n",
      "|GTFS Stop ID|Division|     Stop Name|Borough| CBD|Route|GTFS Latitude|GTFS Longitude|\n",
      "+------------+--------+--------------+-------+----+-----+-------------+--------------+\n",
      "|         R16|     BMT|Times Sq-42 St|      M|True|    N|    40.754672|    -73.986754|\n",
      "|         R16|     BMT|Times Sq-42 St|      M|True|    Q|    40.754672|    -73.986754|\n",
      "|         R16|     BMT|Times Sq-42 St|      M|True|    R|    40.754672|    -73.986754|\n",
      "|         R16|     BMT|Times Sq-42 St|      M|True|    W|    40.754672|    -73.986754|\n",
      "|         127|     IRT|Times Sq-42 St|      M|True|    1|     40.75529|    -73.987495|\n",
      "|         127|     IRT|Times Sq-42 St|      M|True|    2|     40.75529|    -73.987495|\n",
      "|         127|     IRT|Times Sq-42 St|      M|True|    3|     40.75529|    -73.987495|\n",
      "|         725|     IRT|Times Sq-42 St|      M|True|    7|    40.755477|    -73.987691|\n",
      "|         902|     IRT|Times Sq-42 St|      M|True|    S|    40.755983|    -73.986229|\n",
      "+------------+--------+--------------+-------+----+-----+-------------+--------------+\n",
      "\n"
     ]
    }
   ],
   "source": [
    "condition = col(\"Stop Name\").contains(\"Times Sq\")\n",
    "basic_df.where(condition).show(10)"
   ]
  },
  {
   "cell_type": "code",
   "execution_count": 16,
   "id": "4f4e2fa8-0470-4537-9a3f-5cfa50a2c7f9",
   "metadata": {},
   "outputs": [
    {
     "data": {
      "text/plain": [
       "767"
      ]
     },
     "execution_count": 16,
     "metadata": {},
     "output_type": "execute_result"
    }
   ],
   "source": [
    "basic_df.count() ## After exploding, we have 767 rows rather than the original 496"
   ]
  },
  {
   "cell_type": "code",
   "execution_count": 19,
   "id": "49b87686-94d5-4dc0-8eaa-d268f6356f41",
   "metadata": {},
   "outputs": [],
   "source": [
    "# Source: https://stackoverflow.com/questions/38611418/writing-a-csv-with-column-names-and-reading-a-csv-file-which-is-being-generated\n",
    "# Save data as CSV file\n",
    "basic_df.write.csv('Station_by_Line_Data',header=True)"
   ]
  },
  {
   "cell_type": "markdown",
   "id": "1b99dda6-21fd-4ad0-a71c-b9b21e8e6821",
   "metadata": {},
   "source": [
    "# Query MTA API\n",
    "1) Get random list of dates\n",
    "2) Query API to get randomly sampled dataset of crowdedness on subways\n",
    "3) Use Spark for memory management"
   ]
  },
  {
   "cell_type": "code",
   "execution_count": 5,
   "id": "a7f700ec-59bc-46f0-8ca3-b4ef5a1e4efa",
   "metadata": {},
   "outputs": [],
   "source": [
    "# Create a list of dates from available\n",
    "# Source: https://stackoverflow.com/questions/993358/creating-a-range-of-dates-in-python\n",
    "import pandas as pd\n",
    "from datetime import datetime\n",
    "\n",
    "datelist = pd.date_range(start = '01/01/2025', end = '07/10/2025').tolist()"
   ]
  },
  {
   "cell_type": "code",
   "execution_count": 6,
   "id": "aa4be27a-aa5c-4c0a-b7d3-44baf03a3e2b",
   "metadata": {},
   "outputs": [
    {
     "data": {
      "text/plain": [
       "[Timestamp('2025-01-01 00:00:00'),\n",
       " Timestamp('2025-01-02 00:00:00'),\n",
       " Timestamp('2025-01-03 00:00:00'),\n",
       " Timestamp('2025-01-04 00:00:00')]"
      ]
     },
     "execution_count": 6,
     "metadata": {},
     "output_type": "execute_result"
    }
   ],
   "source": [
    "datelist[0:4]"
   ]
  },
  {
   "cell_type": "code",
   "execution_count": 7,
   "id": "439715d8-abe0-4c71-af60-85e709d8c210",
   "metadata": {},
   "outputs": [
    {
     "data": {
      "text/plain": [
       "Timestamp('2025-01-02 00:00:00')"
      ]
     },
     "execution_count": 7,
     "metadata": {},
     "output_type": "execute_result"
    }
   ],
   "source": [
    "# Source: https://stackoverflow.com/questions/48918009/set-the-date-to-the-next-day-date-in-python\n",
    "from dateutil.relativedelta import relativedelta\n",
    "\n",
    "def tomorrow(date):\n",
    "    return date + relativedelta(days = +1)\n",
    "\n",
    "tomorrow(datelist[0])"
   ]
  },
  {
   "cell_type": "code",
   "execution_count": 8,
   "id": "9291d928-cae4-4a05-ae91-b85feee77907",
   "metadata": {},
   "outputs": [
    {
     "data": {
      "text/plain": [
       "191"
      ]
     },
     "execution_count": 8,
     "metadata": {},
     "output_type": "execute_result"
    }
   ],
   "source": [
    "len(datelist)"
   ]
  },
  {
   "cell_type": "code",
   "execution_count": 9,
   "id": "a05f16c1-0f2d-4f94-8b6d-524540813cc5",
   "metadata": {},
   "outputs": [],
   "source": [
    "from random import randint, seed\n",
    "from datetime import datetime"
   ]
  },
  {
   "cell_type": "code",
   "execution_count": 10,
   "id": "48ad3e58-54d7-461c-a98f-feab0d50c19d",
   "metadata": {},
   "outputs": [],
   "source": [
    "seed(20250719) ## Set seed for reproducibility\n",
    "\n",
    "start = 0\n",
    "end = len(datelist) - 1\n",
    "num = 20 # Number of random dates to generate\n",
    "rand_dates = [] # Array to store dates\n",
    "\n",
    "while len(rand_dates) != num:\n",
    "    rand_date = datelist[randint(a = start, b = end)]\n",
    "    if (rand_date not in rand_dates):\n",
    "        rand_dates.append(rand_date)"
   ]
  },
  {
   "cell_type": "code",
   "execution_count": 11,
   "id": "07c9a124-a9a9-442b-b1fb-3de48ebbbe2d",
   "metadata": {},
   "outputs": [
    {
     "data": {
      "text/plain": [
       "[Timestamp('2025-01-07 00:00:00'),\n",
       " Timestamp('2025-01-09 00:00:00'),\n",
       " Timestamp('2025-01-18 00:00:00'),\n",
       " Timestamp('2025-02-14 00:00:00'),\n",
       " Timestamp('2025-02-21 00:00:00'),\n",
       " Timestamp('2025-03-14 00:00:00'),\n",
       " Timestamp('2025-03-17 00:00:00'),\n",
       " Timestamp('2025-03-25 00:00:00'),\n",
       " Timestamp('2025-04-20 00:00:00'),\n",
       " Timestamp('2025-04-23 00:00:00'),\n",
       " Timestamp('2025-04-29 00:00:00'),\n",
       " Timestamp('2025-05-03 00:00:00'),\n",
       " Timestamp('2025-05-05 00:00:00'),\n",
       " Timestamp('2025-05-28 00:00:00'),\n",
       " Timestamp('2025-06-11 00:00:00'),\n",
       " Timestamp('2025-06-20 00:00:00'),\n",
       " Timestamp('2025-06-24 00:00:00'),\n",
       " Timestamp('2025-07-05 00:00:00'),\n",
       " Timestamp('2025-07-09 00:00:00'),\n",
       " Timestamp('2025-07-10 00:00:00')]"
      ]
     },
     "execution_count": 11,
     "metadata": {},
     "output_type": "execute_result"
    }
   ],
   "source": [
    "rand_dates.sort()\n",
    "rand_dates"
   ]
  },
  {
   "cell_type": "markdown",
   "id": "c135b6b6-6492-4d76-9e9e-74ac098931a6",
   "metadata": {},
   "source": [
    "## Test with small subset CSV matching timestamps"
   ]
  },
  {
   "cell_type": "code",
   "execution_count": 12,
   "id": "da395aea-9565-4a1e-b122-667e46c2970a",
   "metadata": {},
   "outputs": [
    {
     "name": "stdout",
     "output_type": "stream",
     "text": [
      "root\n",
      " |-- transit_timestamp: string (nullable = true)\n",
      " |-- transit_mode: string (nullable = true)\n",
      " |-- station_complex_id: string (nullable = true)\n",
      " |-- station_complex: string (nullable = true)\n",
      " |-- borough: string (nullable = true)\n",
      " |-- payment_method: string (nullable = true)\n",
      " |-- fare_class_category: string (nullable = true)\n",
      " |-- ridership: string (nullable = true)\n",
      " |-- transfers: string (nullable = true)\n",
      " |-- latitude: string (nullable = true)\n",
      " |-- longitude: string (nullable = true)\n",
      " |-- Georeference: string (nullable = true)\n",
      "\n"
     ]
    }
   ],
   "source": [
    "jan1_path = \"MTA_data/MTA_Subway_Hourly_Ridership__Beginning_2025_20250719.csv\"\n",
    "jan1 = read_data(jan1_path)"
   ]
  },
  {
   "cell_type": "code",
   "execution_count": 13,
   "id": "d5cf5257-2ad3-4bb3-9d66-0036d2bce0ba",
   "metadata": {},
   "outputs": [
    {
     "data": {
      "text/html": [
       "<div>\n",
       "<style scoped>\n",
       "    .dataframe tbody tr th:only-of-type {\n",
       "        vertical-align: middle;\n",
       "    }\n",
       "\n",
       "    .dataframe tbody tr th {\n",
       "        vertical-align: top;\n",
       "    }\n",
       "\n",
       "    .dataframe thead th {\n",
       "        text-align: right;\n",
       "    }\n",
       "</style>\n",
       "<table border=\"1\" class=\"dataframe\">\n",
       "  <thead>\n",
       "    <tr style=\"text-align: right;\">\n",
       "      <th></th>\n",
       "      <th>transit_timestamp</th>\n",
       "      <th>transit_mode</th>\n",
       "      <th>station_complex_id</th>\n",
       "      <th>station_complex</th>\n",
       "      <th>borough</th>\n",
       "      <th>payment_method</th>\n",
       "      <th>fare_class_category</th>\n",
       "      <th>ridership</th>\n",
       "      <th>transfers</th>\n",
       "      <th>latitude</th>\n",
       "      <th>longitude</th>\n",
       "      <th>Georeference</th>\n",
       "    </tr>\n",
       "  </thead>\n",
       "  <tbody>\n",
       "    <tr>\n",
       "      <th>0</th>\n",
       "      <td>01/01/2025 07:00:00 PM</td>\n",
       "      <td>subway</td>\n",
       "      <td>10</td>\n",
       "      <td>49 St (N,R,W)</td>\n",
       "      <td>Manhattan</td>\n",
       "      <td>omny</td>\n",
       "      <td>OMNY - Full Fare</td>\n",
       "      <td>753</td>\n",
       "      <td>9</td>\n",
       "      <td>40.7599</td>\n",
       "      <td>-73.98414</td>\n",
       "      <td>POINT (-73.98414 40.7599)</td>\n",
       "    </tr>\n",
       "    <tr>\n",
       "      <th>1</th>\n",
       "      <td>01/01/2025 07:00:00 PM</td>\n",
       "      <td>subway</td>\n",
       "      <td>418</td>\n",
       "      <td>233 St (2,5)</td>\n",
       "      <td>Bronx</td>\n",
       "      <td>omny</td>\n",
       "      <td>OMNY - Students</td>\n",
       "      <td>4</td>\n",
       "      <td>0</td>\n",
       "      <td>40.893192</td>\n",
       "      <td>-73.857475</td>\n",
       "      <td>POINT (-73.857475 40.893192)</td>\n",
       "    </tr>\n",
       "    <tr>\n",
       "      <th>2</th>\n",
       "      <td>01/01/2025 07:00:00 PM</td>\n",
       "      <td>subway</td>\n",
       "      <td>409</td>\n",
       "      <td>Spring St (6)</td>\n",
       "      <td>Manhattan</td>\n",
       "      <td>omny</td>\n",
       "      <td>OMNY - Other</td>\n",
       "      <td>2</td>\n",
       "      <td>0</td>\n",
       "      <td>40.7223</td>\n",
       "      <td>-73.99714</td>\n",
       "      <td>POINT (-73.99714 40.7223)</td>\n",
       "    </tr>\n",
       "    <tr>\n",
       "      <th>3</th>\n",
       "      <td>01/01/2025 07:00:00 PM</td>\n",
       "      <td>subway</td>\n",
       "      <td>455</td>\n",
       "      <td>69 St (7)</td>\n",
       "      <td>Queens</td>\n",
       "      <td>omny</td>\n",
       "      <td>OMNY - Students</td>\n",
       "      <td>7</td>\n",
       "      <td>0</td>\n",
       "      <td>40.746326</td>\n",
       "      <td>-73.8964</td>\n",
       "      <td>POINT (-73.8964 40.746326)</td>\n",
       "    </tr>\n",
       "    <tr>\n",
       "      <th>4</th>\n",
       "      <td>01/01/2025 07:00:00 PM</td>\n",
       "      <td>subway</td>\n",
       "      <td>65</td>\n",
       "      <td>79 St (D)</td>\n",
       "      <td>Brooklyn</td>\n",
       "      <td>omny</td>\n",
       "      <td>OMNY - Students</td>\n",
       "      <td>6</td>\n",
       "      <td>0</td>\n",
       "      <td>40.613503</td>\n",
       "      <td>-74.00061</td>\n",
       "      <td>POINT (-74.00061 40.613503)</td>\n",
       "    </tr>\n",
       "  </tbody>\n",
       "</table>\n",
       "</div>"
      ],
      "text/plain": [
       "        transit_timestamp transit_mode station_complex_id station_complex  \\\n",
       "0  01/01/2025 07:00:00 PM       subway                 10   49 St (N,R,W)   \n",
       "1  01/01/2025 07:00:00 PM       subway                418    233 St (2,5)   \n",
       "2  01/01/2025 07:00:00 PM       subway                409   Spring St (6)   \n",
       "3  01/01/2025 07:00:00 PM       subway                455       69 St (7)   \n",
       "4  01/01/2025 07:00:00 PM       subway                 65       79 St (D)   \n",
       "\n",
       "     borough payment_method fare_class_category ridership transfers  \\\n",
       "0  Manhattan           omny    OMNY - Full Fare       753         9   \n",
       "1      Bronx           omny     OMNY - Students         4         0   \n",
       "2  Manhattan           omny        OMNY - Other         2         0   \n",
       "3     Queens           omny     OMNY - Students         7         0   \n",
       "4   Brooklyn           omny     OMNY - Students         6         0   \n",
       "\n",
       "    latitude   longitude                  Georeference  \n",
       "0    40.7599   -73.98414     POINT (-73.98414 40.7599)  \n",
       "1  40.893192  -73.857475  POINT (-73.857475 40.893192)  \n",
       "2    40.7223   -73.99714     POINT (-73.99714 40.7223)  \n",
       "3  40.746326    -73.8964    POINT (-73.8964 40.746326)  \n",
       "4  40.613503   -74.00061   POINT (-74.00061 40.613503)  "
      ]
     },
     "execution_count": 13,
     "metadata": {},
     "output_type": "execute_result"
    }
   ],
   "source": [
    "jan1.limit(5).toPandas()"
   ]
  },
  {
   "cell_type": "markdown",
   "id": "769dea47-51b6-47af-aa85-82608407436d",
   "metadata": {},
   "source": [
    "## Sources\n",
    "https://stackoverflow.com/questions/54775015/soda-api-filtering\n",
    "\n",
    "https://stackoverflow.com/questions/72127658/use-a-python-list-in-a-socrata-request"
   ]
  },
  {
   "cell_type": "code",
   "execution_count": 14,
   "id": "bc99c063-2769-47e7-9c97-2614da8380c1",
   "metadata": {},
   "outputs": [
    {
     "name": "stdout",
     "output_type": "stream",
     "text": [
      "Requirement already satisfied: sodapy in /opt/conda/lib/python3.11/site-packages (2.2.0)\n",
      "Requirement already satisfied: requests>=2.28.1 in /opt/conda/lib/python3.11/site-packages (from sodapy) (2.31.0)\n",
      "Requirement already satisfied: charset-normalizer<4,>=2 in /opt/conda/lib/python3.11/site-packages (from requests>=2.28.1->sodapy) (3.3.0)\n",
      "Requirement already satisfied: idna<4,>=2.5 in /opt/conda/lib/python3.11/site-packages (from requests>=2.28.1->sodapy) (3.4)\n",
      "Requirement already satisfied: urllib3<3,>=1.21.1 in /opt/conda/lib/python3.11/site-packages (from requests>=2.28.1->sodapy) (2.0.7)\n",
      "Requirement already satisfied: certifi>=2017.4.17 in /opt/conda/lib/python3.11/site-packages (from requests>=2.28.1->sodapy) (2023.7.22)\n"
     ]
    }
   ],
   "source": [
    "!pip install sodapy\n",
    "from sodapy import Socrata\n",
    "from TOKENS import APP_TOKEN ## APP_TOKEN allows for unlimited requests as of July 2025"
   ]
  },
  {
   "cell_type": "markdown",
   "id": "bd7cab07-17ff-4c60-8e5a-f1e7fa488120",
   "metadata": {},
   "source": [
    "## Get January 7 Data"
   ]
  },
  {
   "cell_type": "code",
   "execution_count": 15,
   "id": "845b28e2-0808-4161-b68a-37ff93a778e1",
   "metadata": {},
   "outputs": [],
   "source": [
    "query = f\"\"\"SELECT date_trunc_ymd(transit_timestamp) AS transit_date,\n",
    "                   station_complex,\n",
    "                   SUM(ridership) AS total_ridership\n",
    "            WHERE transit_timestamp >= \"{rand_dates[0].isoformat()}\" AND transit_timestamp < \"{tomorrow(rand_dates[0]).isoformat()}\"\n",
    "            AND transit_mode = 'subway'\n",
    "            GROUP BY \n",
    "              transit_date, \n",
    "              station_complex\n",
    "            ORDER BY station_complex ASC NULLS LAST \"\"\""
   ]
  },
  {
   "cell_type": "markdown",
   "id": "44307ede-aa17-4944-ba77-940e87adb065",
   "metadata": {},
   "source": [
    "## Get All Data from Random Dates"
   ]
  },
  {
   "cell_type": "code",
   "execution_count": 16,
   "id": "299cf81f-78bd-4448-8787-d886b6855d10",
   "metadata": {},
   "outputs": [],
   "source": [
    "def getJSON(dates, limit = 10000):\n",
    "    final = []\n",
    "    for i in range(0, len(dates)):\n",
    "        ## SoQL Query\n",
    "        query = f\"\"\"SELECT date_trunc_ymd(transit_timestamp) AS transit_date,\n",
    "                           station_complex,\n",
    "                           SUM(ridership) AS total_ridership\n",
    "                    WHERE transit_timestamp >= \"{dates[i].isoformat()}\" AND transit_timestamp < \"{tomorrow(rand_dates[i]).isoformat()}\"\n",
    "                    AND transit_mode = 'subway'\n",
    "                    GROUP BY \n",
    "                      transit_date, \n",
    "                      station_complex\n",
    "                    ORDER BY station_complex ASC NULLS LAST \n",
    "                    LIMIT {limit} \"\"\"\n",
    "        client = Socrata(\"data.ny.gov\", APP_TOKEN)\n",
    "        results = client.get(\"5wq4-mkjj\", query=query)\n",
    "        final.extend(results)\n",
    "    return final"
   ]
  },
  {
   "cell_type": "code",
   "execution_count": 17,
   "id": "aa237b57-5241-41ae-b521-4eba91a0198f",
   "metadata": {},
   "outputs": [],
   "source": [
    "rand_ridership = getJSON(rand_dates)"
   ]
  },
  {
   "cell_type": "code",
   "execution_count": 18,
   "id": "b0b7cb6e-6a51-45c4-adcb-279febefc7dd",
   "metadata": {},
   "outputs": [
    {
     "data": {
      "text/plain": [
       "8364"
      ]
     },
     "execution_count": 18,
     "metadata": {},
     "output_type": "execute_result"
    }
   ],
   "source": [
    "len(rand_ridership)"
   ]
  },
  {
   "cell_type": "code",
   "execution_count": 19,
   "id": "b5bb7083-c507-477b-a1aa-3f2c7e9ea970",
   "metadata": {},
   "outputs": [
    {
     "data": {
      "text/plain": [
       "{'transit_date': '2025-07-10T00:00:00.000',\n",
       " 'station_complex': 'Zerega Av (6)',\n",
       " 'total_ridership': '1658.0'}"
      ]
     },
     "execution_count": 19,
     "metadata": {},
     "output_type": "execute_result"
    }
   ],
   "source": [
    "rand_ridership[8363]"
   ]
  },
  {
   "cell_type": "code",
   "execution_count": 20,
   "id": "f3246b39-0e0e-4ecb-a09c-f640bdfb3f9c",
   "metadata": {},
   "outputs": [
    {
     "data": {
      "text/plain": [
       "[{'transit_date': '2025-01-07T00:00:00.000',\n",
       "  'station_complex': '103 St (1)',\n",
       "  'total_ridership': '8693.0'},\n",
       " {'transit_date': '2025-01-07T00:00:00.000',\n",
       "  'station_complex': '103 St (6)',\n",
       "  'total_ridership': '9483.0'},\n",
       " {'transit_date': '2025-01-07T00:00:00.000',\n",
       "  'station_complex': '103 St (C,B)',\n",
       "  'total_ridership': '2978.0'},\n",
       " {'transit_date': '2025-01-07T00:00:00.000',\n",
       "  'station_complex': '103 St-Corona Plaza (7)',\n",
       "  'total_ridership': '18261.0'},\n",
       " {'transit_date': '2025-01-07T00:00:00.000',\n",
       "  'station_complex': '104 St (A)',\n",
       "  'total_ridership': '1238.0'}]"
      ]
     },
     "execution_count": 20,
     "metadata": {},
     "output_type": "execute_result"
    }
   ],
   "source": [
    "rand_ridership[0:5]"
   ]
  },
  {
   "cell_type": "code",
   "execution_count": 23,
   "id": "8b3facc3-add7-4f61-b762-a526ec505b72",
   "metadata": {},
   "outputs": [],
   "source": [
    "# Source: https://stackoverflow.com/questions/75473246/how-to-make-a-list-of-json-objects-into-a-json-file-in-python-and-join-multiple\n",
    "\n",
    "import json\n",
    "\n",
    "with open('subway_ridership_sample_2025.json', 'w') as f:\n",
    "    raw_data_as_string = json.dumps(rand_ridership)\n",
    "    f.write(raw_data_as_string)"
   ]
  }
 ],
 "metadata": {
  "kernelspec": {
   "display_name": "Python 3 (ipykernel)",
   "language": "python",
   "name": "python3"
  },
  "language_info": {
   "codemirror_mode": {
    "name": "ipython",
    "version": 3
   },
   "file_extension": ".py",
   "mimetype": "text/x-python",
   "name": "python",
   "nbconvert_exporter": "python",
   "pygments_lexer": "ipython3",
   "version": "3.11.6"
  }
 },
 "nbformat": 4,
 "nbformat_minor": 5
}
